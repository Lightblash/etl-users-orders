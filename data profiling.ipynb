{
 "cells": [
  {
   "cell_type": "markdown",
   "id": "armed-excitement",
   "metadata": {},
   "source": [
    "# Data Profiling"
   ]
  },
  {
   "cell_type": "code",
   "execution_count": 4,
   "id": "abandoned-government",
   "metadata": {},
   "outputs": [],
   "source": [
    "import pandas as pd"
   ]
  },
  {
   "cell_type": "markdown",
   "id": "complicated-cameroon",
   "metadata": {},
   "source": [
    "Загрузим данные из csv файла в датафрейм и выведем первые 5 строк"
   ]
  },
  {
   "cell_type": "code",
   "execution_count": 5,
   "id": "administrative-christmas",
   "metadata": {},
   "outputs": [
    {
     "data": {
      "text/html": [
       "<div>\n",
       "<style scoped>\n",
       "    .dataframe tbody tr th:only-of-type {\n",
       "        vertical-align: middle;\n",
       "    }\n",
       "\n",
       "    .dataframe tbody tr th {\n",
       "        vertical-align: top;\n",
       "    }\n",
       "\n",
       "    .dataframe thead th {\n",
       "        text-align: right;\n",
       "    }\n",
       "</style>\n",
       "<table border=\"1\" class=\"dataframe\">\n",
       "  <thead>\n",
       "    <tr style=\"text-align: right;\">\n",
       "      <th></th>\n",
       "      <th>user_id</th>\n",
       "      <th>server_order_id</th>\n",
       "      <th>service_id</th>\n",
       "      <th>server_configuration</th>\n",
       "      <th>service_start_date</th>\n",
       "      <th>service_end_date</th>\n",
       "      <th>user_id.1</th>\n",
       "      <th>user_name</th>\n",
       "      <th>user_surname</th>\n",
       "      <th>price</th>\n",
       "    </tr>\n",
       "  </thead>\n",
       "  <tbody>\n",
       "    <tr>\n",
       "      <th>0</th>\n",
       "      <td>Userid1</td>\n",
       "      <td>8837</td>\n",
       "      <td>39</td>\n",
       "      <td>ServerConfig39</td>\n",
       "      <td>19.09.2018</td>\n",
       "      <td>19.10.2018</td>\n",
       "      <td>Userid1</td>\n",
       "      <td>UserName1</td>\n",
       "      <td>UserSurname1</td>\n",
       "      <td>1000.0</td>\n",
       "    </tr>\n",
       "    <tr>\n",
       "      <th>1</th>\n",
       "      <td>Userid1</td>\n",
       "      <td>8838</td>\n",
       "      <td>39</td>\n",
       "      <td>ServerConfig39</td>\n",
       "      <td>20.09.2018</td>\n",
       "      <td>20.10.2018</td>\n",
       "      <td>Userid1</td>\n",
       "      <td>UserName1</td>\n",
       "      <td>UserSurname1</td>\n",
       "      <td>1000.0</td>\n",
       "    </tr>\n",
       "    <tr>\n",
       "      <th>2</th>\n",
       "      <td>Userid1</td>\n",
       "      <td>15142</td>\n",
       "      <td>39</td>\n",
       "      <td>ServerConfig39</td>\n",
       "      <td>28.09.2018</td>\n",
       "      <td>28.10.2018</td>\n",
       "      <td>Userid1</td>\n",
       "      <td>UserName1</td>\n",
       "      <td>UserSurname1</td>\n",
       "      <td>1000.0</td>\n",
       "    </tr>\n",
       "    <tr>\n",
       "      <th>3</th>\n",
       "      <td>Userid1</td>\n",
       "      <td>15143</td>\n",
       "      <td>39</td>\n",
       "      <td>ServerConfig39</td>\n",
       "      <td>28.09.2018</td>\n",
       "      <td>28.10.2018</td>\n",
       "      <td>Userid1</td>\n",
       "      <td>UserName1</td>\n",
       "      <td>UserSurname1</td>\n",
       "      <td>1000.0</td>\n",
       "    </tr>\n",
       "    <tr>\n",
       "      <th>4</th>\n",
       "      <td>Userid1</td>\n",
       "      <td>16467</td>\n",
       "      <td>39</td>\n",
       "      <td>ServerConfig39</td>\n",
       "      <td>24.09.2018</td>\n",
       "      <td>24.10.2018</td>\n",
       "      <td>Userid1</td>\n",
       "      <td>UserName1</td>\n",
       "      <td>UserSurname1</td>\n",
       "      <td>1000.0</td>\n",
       "    </tr>\n",
       "  </tbody>\n",
       "</table>\n",
       "</div>"
      ],
      "text/plain": [
       "   user_id  server_order_id  service_id server_configuration  \\\n",
       "0  Userid1             8837          39       ServerConfig39   \n",
       "1  Userid1             8838          39       ServerConfig39   \n",
       "2  Userid1            15142          39       ServerConfig39   \n",
       "3  Userid1            15143          39       ServerConfig39   \n",
       "4  Userid1            16467          39       ServerConfig39   \n",
       "\n",
       "  service_start_date service_end_date user_id.1  user_name  user_surname  \\\n",
       "0         19.09.2018       19.10.2018   Userid1  UserName1  UserSurname1   \n",
       "1         20.09.2018       20.10.2018   Userid1  UserName1  UserSurname1   \n",
       "2         28.09.2018       28.10.2018   Userid1  UserName1  UserSurname1   \n",
       "3         28.09.2018       28.10.2018   Userid1  UserName1  UserSurname1   \n",
       "4         24.09.2018       24.10.2018   Userid1  UserName1  UserSurname1   \n",
       "\n",
       "    price  \n",
       "0  1000.0  \n",
       "1  1000.0  \n",
       "2  1000.0  \n",
       "3  1000.0  \n",
       "4  1000.0  "
      ]
     },
     "execution_count": 5,
     "metadata": {},
     "output_type": "execute_result"
    }
   ],
   "source": [
    "df = pd.read_csv('cf_test_dataset.csv', sep='\\t')\n",
    "df.head()"
   ]
  },
  {
   "cell_type": "markdown",
   "id": "aware-landscape",
   "metadata": {},
   "source": [
    "Проверим количество строк, типы данных столбцов и количество пустых значений"
   ]
  },
  {
   "cell_type": "code",
   "execution_count": 6,
   "id": "accompanied-detective",
   "metadata": {},
   "outputs": [
    {
     "name": "stdout",
     "output_type": "stream",
     "text": [
      "<class 'pandas.core.frame.DataFrame'>\n",
      "RangeIndex: 715 entries, 0 to 714\n",
      "Data columns (total 10 columns):\n",
      " #   Column                Non-Null Count  Dtype  \n",
      "---  ------                --------------  -----  \n",
      " 0   user_id               715 non-null    object \n",
      " 1   server_order_id       715 non-null    int64  \n",
      " 2   service_id            715 non-null    int64  \n",
      " 3   server_configuration  715 non-null    object \n",
      " 4   service_start_date    715 non-null    object \n",
      " 5   service_end_date      715 non-null    object \n",
      " 6   user_id.1             715 non-null    object \n",
      " 7   user_name             715 non-null    object \n",
      " 8   user_surname          715 non-null    object \n",
      " 9   price                 703 non-null    float64\n",
      "dtypes: float64(1), int64(2), object(7)\n",
      "memory usage: 56.0+ KB\n"
     ]
    }
   ],
   "source": [
    "df.info()"
   ]
  },
  {
   "cell_type": "markdown",
   "id": "distinguished-indicator",
   "metadata": {},
   "source": [
    "По данному выводу можно сказать следующее:\n",
    "- На первый взгляд, у нас два одинаковых столбца *user_id*. Проверим значения в этих столбцах ниже.\n",
    "- Столбцы *service_start_date* и *service_end_date* нужно преобразовать в datetime\n",
    "- Всего в файле 715 строк\n",
    "- В 12 заказах нет цены"
   ]
  },
  {
   "cell_type": "code",
   "execution_count": 7,
   "id": "prescription-gospel",
   "metadata": {},
   "outputs": [
    {
     "data": {
      "text/plain": [
       "True"
      ]
     },
     "execution_count": 7,
     "metadata": {},
     "output_type": "execute_result"
    }
   ],
   "source": [
    "(df['user_id'] == df['user_id.1']).all()"
   ]
  },
  {
   "cell_type": "markdown",
   "id": "introductory-christmas",
   "metadata": {},
   "source": [
    "Значения в столбцах одинаковые, один из столбцов можно удалить"
   ]
  },
  {
   "cell_type": "code",
   "execution_count": 8,
   "id": "norman-strain",
   "metadata": {},
   "outputs": [],
   "source": [
    "df.drop(columns=['user_id.1'], inplace=True)"
   ]
  },
  {
   "cell_type": "markdown",
   "id": "heard-raising",
   "metadata": {},
   "source": [
    "Посмотрим на заказы без цены:"
   ]
  },
  {
   "cell_type": "code",
   "execution_count": 10,
   "id": "abstract-formula",
   "metadata": {},
   "outputs": [
    {
     "data": {
      "text/html": [
       "<div>\n",
       "<style scoped>\n",
       "    .dataframe tbody tr th:only-of-type {\n",
       "        vertical-align: middle;\n",
       "    }\n",
       "\n",
       "    .dataframe tbody tr th {\n",
       "        vertical-align: top;\n",
       "    }\n",
       "\n",
       "    .dataframe thead th {\n",
       "        text-align: right;\n",
       "    }\n",
       "</style>\n",
       "<table border=\"1\" class=\"dataframe\">\n",
       "  <thead>\n",
       "    <tr style=\"text-align: right;\">\n",
       "      <th></th>\n",
       "      <th>user_id</th>\n",
       "      <th>server_order_id</th>\n",
       "      <th>service_id</th>\n",
       "      <th>server_configuration</th>\n",
       "      <th>service_start_date</th>\n",
       "      <th>service_end_date</th>\n",
       "      <th>user_name</th>\n",
       "      <th>user_surname</th>\n",
       "      <th>price</th>\n",
       "    </tr>\n",
       "  </thead>\n",
       "  <tbody>\n",
       "    <tr>\n",
       "      <th>60</th>\n",
       "      <td>Userid13</td>\n",
       "      <td>7144</td>\n",
       "      <td>24</td>\n",
       "      <td>ServerConfig24</td>\n",
       "      <td>07.09.2018</td>\n",
       "      <td>07.10.2018</td>\n",
       "      <td>UserName13</td>\n",
       "      <td>UserSurname13</td>\n",
       "      <td>NaN</td>\n",
       "    </tr>\n",
       "    <tr>\n",
       "      <th>61</th>\n",
       "      <td>Userid13</td>\n",
       "      <td>7145</td>\n",
       "      <td>24</td>\n",
       "      <td>ServerConfig24</td>\n",
       "      <td>07.09.2018</td>\n",
       "      <td>07.10.2018</td>\n",
       "      <td>UserName13</td>\n",
       "      <td>UserSurname13</td>\n",
       "      <td>NaN</td>\n",
       "    </tr>\n",
       "    <tr>\n",
       "      <th>62</th>\n",
       "      <td>Userid13</td>\n",
       "      <td>7146</td>\n",
       "      <td>24</td>\n",
       "      <td>ServerConfig24</td>\n",
       "      <td>07.09.2018</td>\n",
       "      <td>07.10.2018</td>\n",
       "      <td>UserName13</td>\n",
       "      <td>UserSurname13</td>\n",
       "      <td>NaN</td>\n",
       "    </tr>\n",
       "    <tr>\n",
       "      <th>483</th>\n",
       "      <td>Userid90</td>\n",
       "      <td>13134</td>\n",
       "      <td>39</td>\n",
       "      <td>ServerConfig39</td>\n",
       "      <td>28.09.2018</td>\n",
       "      <td>28.10.2018</td>\n",
       "      <td>UserName90</td>\n",
       "      <td>UserSurname90</td>\n",
       "      <td>NaN</td>\n",
       "    </tr>\n",
       "    <tr>\n",
       "      <th>484</th>\n",
       "      <td>Userid90</td>\n",
       "      <td>13135</td>\n",
       "      <td>39</td>\n",
       "      <td>ServerConfig39</td>\n",
       "      <td>28.09.2018</td>\n",
       "      <td>28.10.2018</td>\n",
       "      <td>UserName90</td>\n",
       "      <td>UserSurname90</td>\n",
       "      <td>NaN</td>\n",
       "    </tr>\n",
       "    <tr>\n",
       "      <th>485</th>\n",
       "      <td>Userid90</td>\n",
       "      <td>26532</td>\n",
       "      <td>36</td>\n",
       "      <td>ServerConfig36</td>\n",
       "      <td>03.09.2018</td>\n",
       "      <td>03.10.2018</td>\n",
       "      <td>UserName90</td>\n",
       "      <td>UserSurname90</td>\n",
       "      <td>NaN</td>\n",
       "    </tr>\n",
       "    <tr>\n",
       "      <th>686</th>\n",
       "      <td>Userid156</td>\n",
       "      <td>33473</td>\n",
       "      <td>9</td>\n",
       "      <td>ServerConfig9</td>\n",
       "      <td>10.09.2018</td>\n",
       "      <td>10.10.2018</td>\n",
       "      <td>UserName156</td>\n",
       "      <td>UserSurname156</td>\n",
       "      <td>NaN</td>\n",
       "    </tr>\n",
       "    <tr>\n",
       "      <th>697</th>\n",
       "      <td>Userid165</td>\n",
       "      <td>16995</td>\n",
       "      <td>19</td>\n",
       "      <td>ServerConfig19</td>\n",
       "      <td>02.10.2018</td>\n",
       "      <td>02.11.2018</td>\n",
       "      <td>UserName165</td>\n",
       "      <td>UserSurname165</td>\n",
       "      <td>NaN</td>\n",
       "    </tr>\n",
       "    <tr>\n",
       "      <th>698</th>\n",
       "      <td>Userid165</td>\n",
       "      <td>23869</td>\n",
       "      <td>6</td>\n",
       "      <td>ServerConfig6</td>\n",
       "      <td>28.09.2018</td>\n",
       "      <td>28.10.2018</td>\n",
       "      <td>UserName165</td>\n",
       "      <td>UserSurname165</td>\n",
       "      <td>NaN</td>\n",
       "    </tr>\n",
       "    <tr>\n",
       "      <th>699</th>\n",
       "      <td>Userid165</td>\n",
       "      <td>27582</td>\n",
       "      <td>6</td>\n",
       "      <td>ServerConfig6</td>\n",
       "      <td>20.09.2018</td>\n",
       "      <td>20.10.2018</td>\n",
       "      <td>UserName165</td>\n",
       "      <td>UserSurname165</td>\n",
       "      <td>NaN</td>\n",
       "    </tr>\n",
       "    <tr>\n",
       "      <th>700</th>\n",
       "      <td>Userid165</td>\n",
       "      <td>28694</td>\n",
       "      <td>6</td>\n",
       "      <td>ServerConfig6</td>\n",
       "      <td>27.09.2018</td>\n",
       "      <td>27.10.2018</td>\n",
       "      <td>UserName165</td>\n",
       "      <td>UserSurname165</td>\n",
       "      <td>NaN</td>\n",
       "    </tr>\n",
       "    <tr>\n",
       "      <th>710</th>\n",
       "      <td>Userid169</td>\n",
       "      <td>28302</td>\n",
       "      <td>29</td>\n",
       "      <td>ServerConfig29</td>\n",
       "      <td>08.09.2018</td>\n",
       "      <td>08.10.2018</td>\n",
       "      <td>UserName169</td>\n",
       "      <td>UserSurname169</td>\n",
       "      <td>NaN</td>\n",
       "    </tr>\n",
       "  </tbody>\n",
       "</table>\n",
       "</div>"
      ],
      "text/plain": [
       "       user_id  server_order_id  service_id server_configuration  \\\n",
       "60    Userid13             7144          24       ServerConfig24   \n",
       "61    Userid13             7145          24       ServerConfig24   \n",
       "62    Userid13             7146          24       ServerConfig24   \n",
       "483   Userid90            13134          39       ServerConfig39   \n",
       "484   Userid90            13135          39       ServerConfig39   \n",
       "485   Userid90            26532          36       ServerConfig36   \n",
       "686  Userid156            33473           9        ServerConfig9   \n",
       "697  Userid165            16995          19       ServerConfig19   \n",
       "698  Userid165            23869           6        ServerConfig6   \n",
       "699  Userid165            27582           6        ServerConfig6   \n",
       "700  Userid165            28694           6        ServerConfig6   \n",
       "710  Userid169            28302          29       ServerConfig29   \n",
       "\n",
       "    service_start_date service_end_date    user_name    user_surname  price  \n",
       "60          07.09.2018       07.10.2018   UserName13   UserSurname13    NaN  \n",
       "61          07.09.2018       07.10.2018   UserName13   UserSurname13    NaN  \n",
       "62          07.09.2018       07.10.2018   UserName13   UserSurname13    NaN  \n",
       "483         28.09.2018       28.10.2018   UserName90   UserSurname90    NaN  \n",
       "484         28.09.2018       28.10.2018   UserName90   UserSurname90    NaN  \n",
       "485         03.09.2018       03.10.2018   UserName90   UserSurname90    NaN  \n",
       "686         10.09.2018       10.10.2018  UserName156  UserSurname156    NaN  \n",
       "697         02.10.2018       02.11.2018  UserName165  UserSurname165    NaN  \n",
       "698         28.09.2018       28.10.2018  UserName165  UserSurname165    NaN  \n",
       "699         20.09.2018       20.10.2018  UserName165  UserSurname165    NaN  \n",
       "700         27.09.2018       27.10.2018  UserName165  UserSurname165    NaN  \n",
       "710         08.09.2018       08.10.2018  UserName169  UserSurname169    NaN  "
      ]
     },
     "execution_count": 10,
     "metadata": {},
     "output_type": "execute_result"
    }
   ],
   "source": [
    "df[df.price.isnull()]"
   ]
  },
  {
   "cell_type": "markdown",
   "id": "human-wilderness",
   "metadata": {},
   "source": [
    "Не считая цены, абсолютно нормальные заказы. Нужно связаться с владельцами данных и выяснить причину"
   ]
  },
  {
   "cell_type": "markdown",
   "id": "agreed-steps",
   "metadata": {},
   "source": [
    "Преобразуем нужные столбцы в datetime"
   ]
  },
  {
   "cell_type": "code",
   "execution_count": 11,
   "id": "collect-deputy",
   "metadata": {},
   "outputs": [],
   "source": [
    "df['service_start_date'] = pd.to_datetime(df['service_start_date'], format='%d.%m.%Y')"
   ]
  },
  {
   "cell_type": "code",
   "execution_count": 12,
   "id": "polyphonic-cliff",
   "metadata": {},
   "outputs": [],
   "source": [
    "df['service_end_date'] = pd.to_datetime(df['service_end_date'], format='%d.%m.%Y')"
   ]
  },
  {
   "cell_type": "markdown",
   "id": "sixth-murray",
   "metadata": {},
   "source": [
    "Проверим наличие дубликатов в исходном датасете:"
   ]
  },
  {
   "cell_type": "code",
   "execution_count": 13,
   "id": "acknowledged-metallic",
   "metadata": {},
   "outputs": [
    {
     "data": {
      "text/plain": [
       "0"
      ]
     },
     "execution_count": 13,
     "metadata": {},
     "output_type": "execute_result"
    }
   ],
   "source": [
    "df.duplicated().sum()"
   ]
  },
  {
   "cell_type": "markdown",
   "id": "reflected-pattern",
   "metadata": {},
   "source": [
    "Дубликатов нет"
   ]
  },
  {
   "cell_type": "markdown",
   "id": "municipal-coordinate",
   "metadata": {},
   "source": [
    "Посмотрим на распределение цены, нет ли выбросов"
   ]
  },
  {
   "cell_type": "code",
   "execution_count": 14,
   "id": "medical-continent",
   "metadata": {},
   "outputs": [
    {
     "data": {
      "text/plain": [
       "count     703.000000\n",
       "mean     2083.926031\n",
       "std       738.104491\n",
       "min      1000.000000\n",
       "25%      1000.000000\n",
       "50%      2400.000000\n",
       "75%      2600.000000\n",
       "max      3000.000000\n",
       "Name: price, dtype: float64"
      ]
     },
     "execution_count": 14,
     "metadata": {},
     "output_type": "execute_result"
    }
   ],
   "source": [
    "df['price'].describe()"
   ]
  },
  {
   "cell_type": "markdown",
   "id": "strange-spanking",
   "metadata": {},
   "source": [
    "Обнаруженные особенности в данных следует учесть при построении ETL пайплайна"
   ]
  }
 ],
 "metadata": {
  "kernelspec": {
   "display_name": "Python 3",
   "language": "python",
   "name": "python3"
  },
  "language_info": {
   "codemirror_mode": {
    "name": "ipython",
    "version": 3
   },
   "file_extension": ".py",
   "mimetype": "text/x-python",
   "name": "python",
   "nbconvert_exporter": "python",
   "pygments_lexer": "ipython3",
   "version": "3.7.4"
  },
  "toc": {
   "base_numbering": 1,
   "nav_menu": {},
   "number_sections": false,
   "sideBar": true,
   "skip_h1_title": true,
   "title_cell": "Table of Contents",
   "title_sidebar": "Contents",
   "toc_cell": false,
   "toc_position": {},
   "toc_section_display": true,
   "toc_window_display": false
  }
 },
 "nbformat": 4,
 "nbformat_minor": 5
}
